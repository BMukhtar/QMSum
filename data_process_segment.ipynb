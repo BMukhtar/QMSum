{
 "cells": [
  {
   "cell_type": "code",
   "execution_count": 64,
   "metadata": {},
   "outputs": [
    {
     "name": "stdout",
     "output_type": "stream",
     "text": [
      "Total 20 meetings in the test set.\n"
     ]
    }
   ],
   "source": [
    "import json\n",
    "\n",
    "# read the dataset\n",
    "# please enter the path of your data\n",
    "split = 'test'\n",
    "data_path = './data/Product/jsonl/' + split + '.jsonl'\n",
    "docs = []\n",
    "with open(data_path) as f:\n",
    "    for line in f:\n",
    "        docs.append(json.loads(line))\n",
    "n_meetings = len(docs)\n",
    "print('Total {} meetings in the {} set.'.format(n_meetings, split))"
   ]
  },
  {
   "cell_type": "code",
   "execution_count": 65,
   "outputs": [
    {
     "data": {
      "text/plain": "{'topic_list': [{'topic': 'Tool training on the conceptual design of remote control related animal characteristics',\n   'relevant_text_span': [['10', '97']]},\n  {'topic': 'Project plan and target revenue',\n   'relevant_text_span': [['84', '215']]},\n  {'topic': 'Brainstorming functional design on technical function and detailed design',\n   'relevant_text_span': [['97', '236']]}],\n 'general_query_list': [{'query': 'Summarize the whole meeting.',\n   'answer': 'Project Manager invites teammates to brainstorm animal characteristics on remote control function and suggest a reflection on user experience to improve technical function design. Price goal is 25 Euro, profit aim is fifty million Euro, and sales goal is four million. To summarize, the function design will be user-friendly and practical, in which the technical function will be portable phone based, hand-sized, light with limited but all-functioned buttons.'}],\n 'specific_query_list': [{'query': 'What did the group discuss about animal characteristics?',\n   'answer': \"User Interface and Industrial designer drawn dolphin and pig, which the two animals have smart and easy-to-draw features. Marketing suggested a horse and Project Manager thought they should design a remote control that's water resistant, strong and furry. Also he mentioned that remote control will be priced at 25 Euros and aimed to earn a revenue of fifty million Euros. Therefore, Project Manager encouraged teammates to reflect on experience when designing its function and format.\",\n   'relevant_text_span': [['10', '97']]},\n  {'query': 'What did Project Manager think of the call button suggested by User Interface?',\n   'answer': 'The initial feature suggested by Marketing was easy to find and User Interface suggested a call button on the television. And Marketing wanted something that could vibrate or had a signal if it had no sound. However, they were not sure whether it is expensive to design it. So Project Manager suggested designing a magnet or portable phone based couch for the remote control, which people no need to walk over the TV to find it.',\n   'relevant_text_span': [['98', '138']]},\n  {'query': 'Summarize the discussion about the remote control size.',\n   'answer': 'Project Manager asked if the remote control needed to be made larger to avoid losing it. At the first beginning, User Interface suggested bigger, while Project Manager suggested a hand-sized device. Considering the light feature and putting noise on it, User Interface thought it would be feasible to make it mobile with a target price at 25 Euros.',\n   'relevant_text_span': [['139', '169']]},\n  {'query': 'What did Project Manager think of the cost constraints on the telly screen with the programming function?',\n   'answer': 'Since User Interface initially suggested less button feature on the remote control, so Project Manager suggested a telly screen like what phones have. And User Interface mentioned about the master control in electronic houses. However, User Interface thought it is a bit expensive to create this feature, but Marketing mentioned the similar screen in phones is in the acceptable cost range. So, Project Manager agreed and suggested further discussion in the coming meeting.',\n   'relevant_text_span': [['173', '215']]},\n  {'query': 'Why did Project Manager suggest having a clip on the remote control?',\n   'answer': \"User Interface reiterated that the remote control should have a robust and water resistant function. Marketing also mentioned a good tactile feel for the remote control function, which doesn't make hand sweat a lot. Therefore, Project Manager suggested a clip feature on the remote control so that people can clip it to their device.\",\n   'relevant_text_span': [['219', '236']]},\n  {'query': 'What did the group discuss about the project plan and target revenue?',\n   'answer': 'The selling price goal is 25 Euros and profit aim is fifty million Euros. Selling target is four million and the profit goal is fifty percent. So Project Manager mentioned that the group hopes to sell the remote control device internationally, instead of in Scotland or some European country.',\n   'relevant_text_span': [['84', '96']]}],\n 'meeting_transcripts': [{'speaker': 'Project Manager',\n   'content': \"Here we go . Welcome everybody . Um , I'm Abigail Claflin . You can call me Abbie . 'S see . PowerPoint , that's not it . There we go . So this is our kick off meeting . Um and I guess we should all get acquainted {vocalsound} . {vocalsound} Let's {disfmarker} shall we all introduce ourselves ?\"},\n  {'speaker': 'Marketing',\n   'content': \"Hi I'm Chiara , I'm the um Marketing Expert . Um , would you like me to talk about my aims at the moment , or would you like me to just say my name and then we can talk about business later ?\"},\n  {'speaker': 'Project Manager',\n   'content': \"I think we'll get around to that , yeah . So this is just introductions yeah .\"},\n  {'speaker': 'Marketing',\n   'content': \"We'll get round to that later . My name is Chiara and I'm the Marketing Expert .\"},\n  {'speaker': 'Project Manager',\n   'content': \"Okay . I forgot to s say I'm the Project Manager but I figured you all knew that already ,\"},\n  {'speaker': 'Industrial Designer', 'content': '{vocalsound}'},\n  {'speaker': 'User Interface', 'content': '{vocalsound}'},\n  {'speaker': 'Project Manager', 'content': '{vocalsound} um so .'},\n  {'speaker': 'User Interface',\n   'content': \"{vocalsound} I'm Stephanie and I am the User Interface Designer .\"},\n  {'speaker': 'Industrial Designer',\n   'content': \"I'm Krista and I'm the Industrial Designer .\"},\n  {'speaker': 'Project Manager',\n   'content': \"Okay . Um so f here's our agenda for today . Um we're gonna do some tool training , project plan and discuss then close . {vocalsound} Um so . So our aim is to produce a remote control that is original , trendy and user friendly . And to do this , we have to {disfmarker} um there's certain things we have to consider about functional aspects and conceptual design of the thing . So . We'll get to that . Oh there it is . Right . Functional design , conceptual design and detailed design . So throughout our next couple of meetings we'll we'll be covering these things . Um {vocalsound} so we're gonna try out our white board . If we'll all draw our favourite animal , to sum up the characteristics of that animal . Okay .\"},\n  {'speaker': 'User Interface',\n   'content': 'So you want us to draw it and then talk about it ? Or just draw it ?'},\n  {'speaker': 'Project Manager', 'content': '{vocalsound}'},\n  {'speaker': 'Marketing', 'content': 'I think both . {vocalsound}'},\n  {'speaker': 'Project Manager',\n   'content': 'Yeah . Both . Yeah {vocalsound} .'},\n  {'speaker': 'User Interface',\n   'content': \"Okay . Why don't we do both . Right .\"},\n  {'speaker': 'Marketing',\n   'content': 'Who starts ? We ought to decide who starts and {vocalsound} all that . No ?'},\n  {'speaker': 'Project Manager', 'content': 'Any volunteers ?'},\n  {'speaker': 'Marketing', 'content': 'Uh-huh .'},\n  {'speaker': 'Project Manager',\n   'content': 'Does anyone know what they wanna draw ? {vocalsound}'},\n  {'speaker': 'Industrial Designer', 'content': '{vocalsound}'},\n  {'speaker': 'User Interface',\n   'content': 'Mm , I gotta think about it for a second like . Uh {disfmarker} Does it have to be {vocalsound} functional , trendy and user friendly ? {vocalsound}'},\n  {'speaker': 'Project Manager', 'content': \"{vocalsound} I don't think so .\"},\n  {'speaker': 'Industrial Designer', 'content': '{vocalsound}'},\n  {'speaker': 'User Interface',\n   'content': \"Um . Okay , I'll draw . I'll draw one .\"},\n  {'speaker': 'Project Manager', 'content': '{gap}'},\n  {'speaker': 'User Interface',\n   'content': 'Make sure {gap} my things here . Uh-oh . Right . Okay , my favourite animal is {disfmarker} see . {vocalsound} Oops .'},\n  {'speaker': 'Project Manager', 'content': 'A dolphin .'},\n  {'speaker': 'User Interface',\n   'content': \"Yeah , it's {vocalsound} {disfmarker}\"},\n  {'speaker': 'Industrial Designer', 'content': '{vocalsound}'},\n  {'speaker': 'Project Manager',\n   'content': \"{vocalsound} 'S like playing Pictionary .\"},\n  {'speaker': 'User Interface',\n   'content': \"{vocalsound} Yeah , I guess it has a fin on top too , yeah . {vocalsound} It's my dolphin .\"},\n  {'speaker': 'Project Manager',\n   'content': '{vocalsound} So what characteristics do you like about your animal ? {vocalsound}'},\n  {'speaker': 'Industrial Designer', 'content': '{vocalsound}'},\n  {'speaker': 'User Interface', 'content': 'I like its tail .'},\n  {'speaker': 'Industrial Designer', 'content': '{vocalsound}'},\n  {'speaker': 'User Interface',\n   'content': \"{vocalsound} Um , no , I think dolphins are really uh {disfmarker} I dunno , they're smart and they they're cute and they like swimming and that's cool , like {disfmarker}\"},\n  {'speaker': 'Project Manager', 'content': \"{vocalsound} They're graceful .\"},\n  {'speaker': 'User Interface',\n   'content': \"they're graceful yeah , and they're so {disfmarker}\"},\n  {'speaker': 'Project Manager', 'content': 'Sleek {vocalsound} .'},\n  {'speaker': 'User Interface', 'content': \"{vocalsound} Yeah they're sleek\"},\n  {'speaker': 'Industrial Designer', 'content': '{vocalsound}'},\n  {'speaker': 'User Interface',\n   'content': \"and they look intelligent and I don't know , they're {disfmarker} I guess it's the whole like binocular vision thing .\"},\n  {'speaker': 'Project Manager',\n   'content': \"I don't know how intelligent that one looks {vocalsound} .\"},\n  {'speaker': 'Industrial Designer', 'content': '{vocalsound}'},\n  {'speaker': 'User Interface',\n   'content': \"Yeah he he doesn't look that smart {vocalsound} . He's a {disfmarker} {vocalsound} I dunno um they're {disfmarker} I think it's cool the the um {vocalsound} the interaction that or the th things that {disfmarker} the reasons people seem to like you know {disfmarker} you get ex you know people are sitting on the beach and p they're like oh look there's dolphins and it's kinda like {vocalsound} {disfmarker} but they're you know they jump around in the water and they're happy and they're mammals , but they swim . {gap} {vocalsound}\"},\n  {'speaker': 'Project Manager',\n   'content': 'Yes . {vocalsound} Does anybody else wanna draw their animal ?'},\n  {'speaker': 'Industrial Designer',\n   'content': 'Suppose I can draw an animal , yeah .'},\n  {'speaker': 'Project Manager', 'content': '{vocalsound} {vocalsound} .'},\n  {'speaker': 'User Interface', 'content': '{vocalsound}'},\n  {'speaker': 'Project Manager', 'content': 'Uh-oh there goes the ten .'},\n  {'speaker': 'Industrial Designer', 'content': '{vocalsound} Yeah .'},\n  {'speaker': 'Project Manager',\n   'content': \"{vocalsound} It's a cat . {vocalsound}\"},\n  {'speaker': 'User Interface', 'content': '{vocalsound}'},\n  {'speaker': 'Industrial Designer',\n   'content': \"I don't know . They sleep all day , {vocalsound} they're easy to draw {vocalsound} .\"},\n  {'speaker': 'Project Manager',\n   'content': '{vocalsound} Do you wanna {gap} anything ?'},\n  {'speaker': 'Marketing', 'content': 'Uh yeah .'},\n  {'speaker': 'Project Manager', 'content': 'I dunno if the the {disfmarker}'},\n  {'speaker': 'Industrial Designer',\n   'content': 'I think the pen is running out of {disfmarker}'},\n  {'speaker': 'Marketing',\n   'content': \"Well I had the cat as well , but uh I've got a spare one .\"},\n  {'speaker': 'Project Manager', 'content': 'ah .'},\n  {'speaker': 'User Interface', 'content': '{vocalsound}'},\n  {'speaker': 'Industrial Designer', 'content': '{vocalsound}'},\n  {'speaker': 'Marketing',\n   'content': \"So I'll use the spare one . Um but it's harder to draw {gap} um .\"},\n  {'speaker': 'User Interface',\n   'content': \"And the pen's dying {vocalsound} .\"},\n  {'speaker': 'Marketing', 'content': 'Um .'},\n  {'speaker': 'Project Manager', 'content': 'A horse .'},\n  {'speaker': 'User Interface', 'content': 'Horse .'},\n  {'speaker': 'Marketing',\n   'content': \"Uh . Um I don't {vocalsound} really know how the legs go ,\"},\n  {'speaker': 'Industrial Designer', 'content': '{vocalsound}'},\n  {'speaker': 'Project Manager', 'content': \"That's very good .\"},\n  {'speaker': 'Industrial Designer', 'content': '{vocalsound}'},\n  {'speaker': 'Marketing',\n   'content': \"but anyway I will do that . Um , and the main reason is they're pretty . I think they're very pretty and they go well with the environment , and I like the way they run and I used to do horse riding and they're just very sort of sturdy and nice animals . And I like the way um they feel , sort of under under the hand , I think that's pretty much it . Um {disfmarker}\"},\n  {'speaker': 'Project Manager',\n   'content': \"{gap} Yeah . This cord's {disfmarker} {gap} Uh . Right . Actually I haven't thought of anything yet {vocalsound} . Uh {disfmarker} It's a pig .\"},\n  {'speaker': 'Industrial Designer', 'content': '{vocalsound}'},\n  {'speaker': 'Marketing', 'content': '{vocalsound}'},\n  {'speaker': 'Project Manager',\n   'content': \"{vocalsound} So I'm thinking we should design a remote control that's water resistant , strong and furry . What do you think , yeah ? This is {disfmarker}\"},\n  {'speaker': 'User Interface', 'content': 'And furry .'},\n  {'speaker': 'Project Manager',\n   'content': 'yeah , well like a cat , you know , soft yeah .'},\n  {'speaker': 'Industrial Designer', 'content': '{vocalsound}'},\n  {'speaker': 'User Interface',\n   'content': 'Textile {disfmarker} tactile , {vocalsound} tactile remote control .'},\n  {'speaker': 'Marketing', 'content': '{vocalsound}'},\n  {'speaker': 'Project Manager',\n   'content': \"{vocalsound} Although {disfmarker} uh I'll just put there . Right .\"},\n  {'speaker': 'User Interface',\n   'content': \"You're dragging a {disfmarker} you have a tail {vocalsound} .\"},\n  {'speaker': 'Project Manager',\n   'content': \"{gap} Oh my gosh , this is disastrous . Sorry about that . {vocalsound} Okay . {vocalsound} So moving on . Our selling price goal is twenty five Euro and profit aim is fifty million Euro . So I'm guessing that we're not actually in Scotland , we're in some European country {vocalsound} . Um , and we will hope to sell this internationally .\"},\n  {'speaker': 'User Interface',\n   'content': \"Sorry can you just say that {disfmarker} what's the {disfmarker} what are our price goals again ?\"},\n  {'speaker': 'Project Manager',\n   'content': 'Um selling price is twenty five Euro . Profit aim fifty million Euro .'},\n  {'speaker': 'User Interface', 'content': 'Okay .'},\n  {'speaker': 'Marketing',\n   'content': 'How many should we sell then ? {vocalsound} Um , a lot ,'},\n  {'speaker': 'Project Manager',\n   'content': 'Anyone a mathematician ? {vocalsound}'},\n  {'speaker': 'Marketing',\n   'content': 'two two two million , {gap} two mi no , more f four million .'},\n  {'speaker': 'Industrial Designer', 'content': 'Two million .'},\n  {'speaker': 'Marketing', 'content': 'Four million . And it {disfmarker}'},\n  {'speaker': 'Industrial Designer', 'content': '{vocalsound}'},\n  {'speaker': 'Marketing',\n   'content': \"well it's the profit so if a profit for each is twelve fifty , that'll do four million .\"},\n  {'speaker': 'Industrial Designer', 'content': 'Oh , yeah .'},\n  {'speaker': 'Marketing', 'content': '{vocalsound} It is a lot . Uh .'},\n  {'speaker': 'Project Manager',\n   'content': \"So f that's a fifty percent um uh . Um , I don't know what these mean because I didn't actually make the slide-show . Experience with remote control . So I guess we have to reflect on our experiences with remote controls to decide what um we would like to see in a convenient , practical , nice remote control . Um so do we have any initial ideas for uh how this remote control should be designed or formatted or the the buttons it should have .\"},\n  {'speaker': 'Marketing',\n   'content': 'Um , I think one thing is that it should be easy to find'},\n  {'speaker': 'Industrial Designer', 'content': '{vocalsound}'},\n  {'speaker': 'User Interface', 'content': 'I was thinking that too .'},\n  {'speaker': 'Marketing', 'content': 'bec yeah {vocalsound} bec'},\n  {'speaker': 'Project Manager', 'content': 'Yeah .'},\n  {'speaker': 'User Interface',\n   'content': 'I think we should design something that has like a {disfmarker} so you can {disfmarker} like somehow like you {disfmarker} I mean you always know where your T_V_ is , so just have a call button ,'},\n  {'speaker': 'Industrial Designer', 'content': '{vocalsound}'},\n  {'speaker': 'User Interface', 'content': \"I've always wanted that ,\"},\n  {'speaker': 'Project Manager', 'content': 'Yeah .'},\n  {'speaker': 'User Interface',\n   'content': 'so like {vocalsound} you can push a button on your T_V_ {disfmarker}'},\n  {'speaker': 'Marketing', 'content': 'Yeah , yeah yeah yeah yeah .'},\n  {'speaker': 'Project Manager',\n   'content': 'I mean you have it for the portable phone , so why not {disfmarker} yeah .'},\n  {'speaker': 'User Interface',\n   'content': 'Yeah , yeah yeah yeah , so you should have a call button on your television to be able to find your remote control .'},\n  {'speaker': 'Marketing',\n   'content': \"Yeah . And even I think a little light . Um or even a {disfmarker} maybe a vib a vibrating thing . I dunno but someth because it's usually under the sofa .\"},\n  {'speaker': 'Industrial Designer', 'content': '{vocalsound}'},\n  {'speaker': 'User Interface', 'content': 'Yeah . Yeah .'},\n  {'speaker': 'Marketing',\n   'content': \"In which case you're going to be l but if it has a sort of signal which isn't any sound {disfmarker}\"},\n  {'speaker': 'User Interface', 'content': 'Yeah .'},\n  {'speaker': 'Marketing',\n   'content': \"I don't know if it's expensive maybe to {disfmarker}\"},\n  {'speaker': 'User Interface',\n   'content': \"I don't {disfmarker} yeah I mean it {disfmarker} but like I mean {disfmarker}\"},\n  {'speaker': 'Marketing', 'content': 'Maybe call is enough . But yeah .'},\n  {'speaker': 'User Interface',\n   'content': 'just I mean like your phone even just has so {disfmarker} like it can vibrate , it can light up and make noise and I dunno {vocalsound}'},\n  {'speaker': 'Marketing', 'content': 'Yeah yeah yeah . Yeah .'},\n  {'speaker': 'Project Manager',\n   'content': 'What if it had something like um just like a magnet on the back of it and you could {disfmarker} I mean j just to have some place to put it besides like a base . You know like a portable phone has a base ,'},\n  {'speaker': 'User Interface',\n   'content': 'Yeah . Yeah , or if it had a {disfmarker} yeah .'},\n  {'speaker': 'Project Manager',\n   'content': 'like just to have a home for it .'},\n  {'speaker': 'Industrial Designer', 'content': '{vocalsound}'},\n  {'speaker': 'Marketing', 'content': 'Yeah yeah yeah yeah .'},\n  {'speaker': 'User Interface', 'content': 'Yeah ,'},\n  {'speaker': 'Project Manager',\n   'content': \"{vocalsound} 'Cause people just stick it on top of their T_V_ , but the point of having a remote is not to have to walk over to the T_V_ , so {disfmarker}\"},\n  {'speaker': 'User Interface', 'content': 'I mean {disfmarker}'},\n  {'speaker': 'Industrial Designer',\n   'content': \"{vocalsound} Well that's why it's always in the couch .\"},\n  {'speaker': 'User Interface', 'content': 'Yeah .'},\n  {'speaker': 'Project Manager', 'content': 'Yeah {vocalsound} .'},\n  {'speaker': 'User Interface',\n   'content': 'Yeah , in in the couch {vocalsound} .'},\n  {'speaker': 'Marketing', 'content': '{vocalsound}'},\n  {'speaker': 'Project Manager', 'content': '{gap}'},\n  {'speaker': 'User Interface',\n   'content': \"I dunno , it seems like though that that would be hard , 'cause you not you're not gonna be lazy anyway and {disfmarker}\"},\n  {'speaker': 'Project Manager',\n   'content': 'Yeah . Maybe we should design couches that have the remote control in the side arm . {vocalsound}'},\n  {'speaker': 'Industrial Designer', 'content': '{vocalsound} {vocalsound}'},\n  {'speaker': 'User Interface',\n   'content': 'Yeah so we {disfmarker} {vocalsound} the project is now couches and remote controls .'},\n  {'speaker': 'Marketing',\n   'content': '{vocalsound} But even just a thing to attach it to the w you know if you had a thing , a pretty object attached to the wall . But that would really make it more expensive .'},\n  {'speaker': 'User Interface', 'content': 'Yeah .'},\n  {'speaker': 'Marketing',\n   'content': \"But it's only a plastic thing , r really , the thing on the wall .\"},\n  {'speaker': 'Project Manager', 'content': 'Yeah .'},\n  {'speaker': 'User Interface', 'content': 'Yeah .'},\n  {'speaker': 'Marketing', 'content': 'Something like that .'},\n  {'speaker': 'Project Manager',\n   'content': 'Do you think it needs to be bigger to not lose , or does that not factor in ?'},\n  {'speaker': 'Marketing', 'content': 'And the other thing is {disfmarker}'},\n  {'speaker': 'User Interface', 'content': 'Bigger .'},\n  {'speaker': 'Marketing',\n   'content': 'Not {disfmarker} well it needs to be sort of {disfmarker}'},\n  {'speaker': 'Project Manager',\n   'content': 'Like Hand hand held size , yeah .'},\n  {'speaker': 'User Interface', 'content': 'Hand-sized .'},\n  {'speaker': 'Marketing',\n   'content': \"Yeah . I don't think you need a {disfmarker}\"},\n  {'speaker': 'Project Manager', 'content': 'Not not huge , but {vocalsound}'},\n  {'speaker': 'Industrial Designer', 'content': '{vocalsound}'},\n  {'speaker': 'Marketing',\n   'content': \"But definitely not {disfmarker} well I don't know .\"},\n  {'speaker': 'User Interface',\n   'content': \"It can't be that hard to put some kind of a noise on it .\"},\n  {'speaker': 'Marketing', 'content': \"No , it can't be , uh-uh .\"},\n  {'speaker': 'Industrial Designer', 'content': \"No it really wouldn't be .\"},\n  {'speaker': 'Project Manager', 'content': 'Huh .'},\n  {'speaker': 'User Interface',\n   'content': 'Or like or like a light thing . You know . I dunno {vocalsound}'},\n  {'speaker': 'Industrial Designer', 'content': '{vocalsound}'},\n  {'speaker': 'Marketing', 'content': '{vocalsound} Like spaceship .'},\n  {'speaker': 'User Interface',\n   'content': '. Yeah {vocalsound} . Or make it mobile so it runs around and comes come find you yeah {vocalsound} .'},\n  {'speaker': 'Industrial Designer', 'content': '{vocalsound}'},\n  {'speaker': 'Project Manager', 'content': '{vocalsound}'},\n  {'speaker': 'Industrial Designer', 'content': '{vocalsound}'},\n  {'speaker': 'User Interface',\n   'content': \"That would be really {disfmarker} I'm sure we could do that for twenty five Euros a pop .\"},\n  {'speaker': 'Project Manager',\n   'content': 'Little homing device . {vocalsound} {vocalsound} Um .'},\n  {'speaker': 'Industrial Designer', 'content': '{vocalsound}'},\n  {'speaker': 'User Interface',\n   'content': '{vocalsound} Yeah {vocalsound} . Uh .'},\n  {'speaker': 'Project Manager',\n   'content': 'Okay . So what do we think this remote control should {disfmarker} Five minutes .'},\n  {'speaker': 'Marketing', 'content': 'Oh dear .'},\n  {'speaker': 'Project Manager',\n   'content': 'Till the meeting {disfmarker} oh right . This is what we have left . Um , oh we just {gap}'},\n  {'speaker': 'User Interface',\n   'content': \"I also think though that it shouldn't have too many buttons ,\"},\n  {'speaker': 'Industrial Designer', 'content': 'Yeah , I agree .'},\n  {'speaker': 'User Interface',\n   'content': \"'cause I hate that when they have too many buttons and {disfmarker}\"},\n  {'speaker': 'Project Manager', 'content': 'Yeah .'},\n  {'speaker': 'Industrial Designer',\n   'content': \"{vocalsound} B_ button and the F_ button , they don't do anything .\"},\n  {'speaker': 'Marketing', 'content': 'Yeah , yeah yeah .'},\n  {'speaker': 'User Interface',\n   'content': \"I mean I know it has to have enough functions but like , I don't know you , just have like eight thousand buttons and you're like , no , you never use half of them . So .\"},\n  {'speaker': 'Project Manager',\n   'content': 'You {disfmarker} what if um may be a little fancy but what if it had like a little screen , so it has less buttons but it still has all the functions . Like the way a mobile phone does .'},\n  {'speaker': 'User Interface', 'content': 'That would be cool .'},\n  {'speaker': 'Marketing', 'content': 'Yeah .'},\n  {'speaker': 'User Interface',\n   'content': 'Yeah . I mean it just seems like {disfmarker}'},\n  {'speaker': 'Project Manager',\n   'content': 'So you could like um {disfmarker} like if you have I dunno if you have satellite if you have a hundred channels , you can {disfmarker} the way you do it on your radio is that you uh {disfmarker}'},\n  {'speaker': 'User Interface', 'content': 'yeah .'},\n  {'speaker': 'Project Manager',\n   'content': 'what do you call it {disfmarker}'},\n  {'speaker': 'Marketing', 'content': 'Select . Uh .'},\n  {'speaker': 'Project Manager',\n   'content': 's y yeah but you can programme , so you can programme like your favourite channels , so like if you had a s'},\n  {'speaker': 'Marketing',\n   'content': 'But , would you have the screen on the thing , or would you have it on the telly transmitting the screen .'},\n  {'speaker': 'Project Manager',\n   'content': \"That's something we could decide . Mm .\"},\n  {'speaker': 'Marketing', 'content': 'Because {disfmarker}'},\n  {'speaker': 'User Interface',\n   'content': 'I guess they would go together somehow ? I dunno .'},\n  {'speaker': 'Marketing',\n   'content': \"Because , I don't know if it's {disfmarker} {vocalsound} I think it's e expensive , if you have {disfmarker} if you use the telly screen , 'cause the telly's already a screen , then you can pro sort of have a programming function , really easy sort of arrow up and down , on the remote ,\"},\n  {'speaker': 'Project Manager', 'content': 'Yeah . Yeah .'},\n  {'speaker': 'Marketing', 'content': 'and then use the telly as a screen .'},\n  {'speaker': 'Project Manager', 'content': 'Right .'},\n  {'speaker': 'Marketing', 'content': 'But um {disfmarker}'},\n  {'speaker': 'User Interface',\n   'content': \"I'm thinking kind of {disfmarker}\"},\n  {'speaker': 'Marketing',\n   'content': \"But yeah for sure . Something like not {disfmarker} it's not on the button but it's telling you what to do ,\"},\n  {'speaker': 'Project Manager', 'content': 'Yeah .'},\n  {'speaker': 'Marketing', 'content': 'is that what you mean ?'},\n  {'speaker': 'Project Manager', 'content': 'Yeah .'},\n  {'speaker': 'Marketing', 'content': 'Right . Mm .'},\n  {'speaker': 'User Interface',\n   'content': \"Or like you h you see those you know people {disfmarker} I'm thinking of like celebrity cribs kind of things when like they have all those {disfmarker} these things that at their house you know {disfmarker} their their entire house is so electronic , and they have like this one master control that {disfmarker} and it's like a hand held like {disfmarker} turns on everything sort of control and it has like a screen and like {disfmarker} so I think it should be possible to have some kind of a screen , I don't know if {disfmarker} it must be {disfmarker} it would probably {disfmarker}\"},\n  {'speaker': 'Marketing', 'content': 'Yeah .'},\n  {'speaker': 'User Interface',\n   'content': 'must be ex too expensive though t like I dunno .'},\n  {'speaker': 'Project Manager', 'content': 'Mm .'},\n  {'speaker': 'Marketing',\n   'content': \"But like mobile phones have screens and they're cheap .\"},\n  {'speaker': 'User Interface', 'content': \"Yeah , yeah . Yeah that's true .\"},\n  {'speaker': 'Project Manager',\n   'content': 'Yeah . I mean , we have to remember our budget is twelve point {disfmarker} twelve fifty for {disfmarker} to actually make the device .'},\n  {'speaker': 'Marketing', 'content': 'Yeah .'},\n  {'speaker': 'User Interface', 'content': 'Mm .'},\n  {'speaker': 'Project Manager',\n   'content': \"Um but it's something to think about , yeah .\"},\n  {'speaker': 'User Interface',\n   'content': 'Well , I guess we have to get to that later , yeah .'},\n  {'speaker': 'Project Manager',\n   'content': \"I mean we'll have to see how much that would be .\"},\n  {'speaker': 'User Interface', 'content': '{vocalsound}'},\n  {'speaker': 'Marketing',\n   'content': \"Or some {disfmarker} it i we can find out probably on the internet {vocalsound} how much it's {disfmarker}\"},\n  {'speaker': 'Project Manager', 'content': 'Yeah .'},\n  {'speaker': 'Marketing',\n   'content': 'Um . Yeah , and the other thing you said that thing about robust and water um {disfmarker}'},\n  {'speaker': 'Industrial Designer', 'content': '{vocalsound}'},\n  {'speaker': 'Marketing', 'content': 'What was the word ?'},\n  {'speaker': 'User Interface', 'content': 'Furry .'},\n  {'speaker': 'Marketing', 'content': 'Water resistant .'},\n  {'speaker': 'Project Manager',\n   'content': 'Oh I was just {disfmarker} {vocalsound}'},\n  {'speaker': 'User Interface', 'content': '{vocalsound}'},\n  {'speaker': 'Marketing',\n   'content': \"No but it's {disfmarker} I thought , ah , spot on .\"},\n  {'speaker': 'Industrial Designer', 'content': '{vocalsound}'},\n  {'speaker': 'Marketing',\n   'content': 'Good feel , tact tactile , good tactile feel ,'},\n  {'speaker': 'Project Manager', 'content': 'Yeah .'},\n  {'speaker': 'Marketing',\n   'content': \"maybe something didn doesn't make your hands sweat lot .\"},\n  {'speaker': 'User Interface', 'content': 'Yeah . Mm , mm .'},\n  {'speaker': 'Marketing', 'content': \"That's quite annoying .\"},\n  {'speaker': 'Project Manager',\n   'content': 'Maybe um just like a simple thing to have a clip on it , like so you can clip it to your {disfmarker}'},\n  {'speaker': 'User Interface', 'content': 'Yeah .'},\n  {'speaker': 'Project Manager',\n   'content': \"like that's another {disfmarker}\"},\n  {'speaker': 'Marketing', 'content': 'Yeah , clip . Ooh {vocalsound} . Um .'},\n  {'speaker': 'Project Manager',\n   'content': \"Um . We should probably start wrapping up , um we've got some initial ideas that we can all look into . Um , and come up with some new ones for the next meeting , which will be in another thirty minutes . Um . So . Yeah . The Industrial Designer , what does that stand for , I_D_ ,\"},\n  {'speaker': 'Industrial Designer', 'content': 'Yeah I think so .'},\n  {'speaker': 'Project Manager',\n   'content': \"yeah {vocalsound} um is going to be looking more into the working design . So I guess you'd be looking at lots of the things we discussed about screen and um that sort of thing . The something , what is the U_I_ ?\"},\n  {'speaker': 'Industrial Designer', 'content': 'User .'},\n  {'speaker': 'Project Manager',\n   'content': 'Yeah , what does it stand for again ?'},\n  {'speaker': 'User Interface',\n   'content': \"That's me . Uh , User Interface design .\"},\n  {'speaker': 'Project Manager',\n   'content': \"User Interface Designer . So that's gonna be more technical . I guess that maybe the working design has also to do with like the physical feat like just the way it looks and the way it w\"},\n  {'speaker': 'User Interface', 'content': 'So technical function .'},\n  {'speaker': 'Industrial Designer',\n   'content': 'The working design is the structure .'},\n  {'speaker': 'Project Manager', 'content': 'Yeah , yeah .'},\n  {'speaker': 'User Interface',\n   'content': \"What is technical functions exactl I I don't really know what {disfmarker}\"},\n  {'speaker': 'Project Manager',\n   'content': \"Um , I guess you'd have to find out {vocalsound} .\"},\n  {'speaker': 'Industrial Designer', 'content': '{vocalsound}'},\n  {'speaker': 'User Interface', 'content': '{gap}'},\n  {'speaker': 'Industrial Designer', 'content': 'Um .'},\n  {'speaker': 'Marketing',\n   'content': 'It says on that email but it {disfmarker}'},\n  {'speaker': 'Industrial Designer', 'content': 'It was in the email .'},\n  {'speaker': 'User Interface',\n   'content': \"It does but it {disfmarker} I just don't really {disfmarker}\"},\n  {'speaker': 'Industrial Designer',\n   'content': 'I wrote down what mine were .'},\n  {'speaker': 'Marketing', 'content': 'It said um {disfmarker}'},\n  {'speaker': 'User Interface', 'content': 'Yeah .'},\n  {'speaker': 'Marketing', 'content': 'It said {disfmarker}'},\n  {'speaker': 'User Interface',\n   'content': '{vocalsound} What effect should the thing ha should it have , okay . Alright .'},\n  {'speaker': 'Marketing', 'content': 'Yeah'},\n  {'speaker': 'User Interface', 'content': 'And working design .'},\n  {'speaker': 'Marketing', 'content': 'like {disfmarker}'},\n  {'speaker': 'User Interface', 'content': 'Okay .'},\n  {'speaker': 'Marketing',\n   'content': 'Be a medium between you and the telly I think ,'},\n  {'speaker': 'User Interface', 'content': 'Yeah , yeah . Alright .'},\n  {'speaker': 'Project Manager', 'content': 'Mm .'},\n  {'speaker': 'Marketing', 'content': \"that's uh {disfmarker}\"},\n  {'speaker': 'User Interface',\n   'content': \"And how it works , okay . Right . I'm I'm on task .\"},\n  {'speaker': 'Project Manager',\n   'content': 'And the M_E_ , what does that stand for {vocalsound} ? M'},\n  {'speaker': 'Industrial Designer', 'content': 'Marketing .'},\n  {'speaker': 'Project Manager',\n   'content': 'Marketing , right . Um {vocalsound} .'},\n  {'speaker': 'Marketing',\n   'content': \"Marketing . Oh it's written here , but um .\"},\n  {'speaker': 'Project Manager',\n   'content': \"So we'll be working on the user requirements , um {disfmarker} Yeah .\"},\n  {'speaker': 'Marketing', 'content': 'Okay .'},\n  {'speaker': 'Project Manager',\n   'content': \"So I guess that wraps it up . I'll see you all in thirty minutes . I just did .\"}]}"
     },
     "execution_count": 65,
     "metadata": {},
     "output_type": "execute_result"
    }
   ],
   "source": [
    "docs[0]"
   ],
   "metadata": {
    "collapsed": false
   }
  },
  {
   "cell_type": "code",
   "execution_count": 66,
   "metadata": {},
   "outputs": [],
   "source": [
    "from nltk import word_tokenize\n",
    "# tokneize a sent\n",
    "def tokenize(sent):\n",
    "    tokens = ' '.join(word_tokenize(sent.lower()))\n",
    "    return tokens"
   ]
  },
  {
   "cell_type": "code",
   "execution_count": 67,
   "metadata": {},
   "outputs": [],
   "source": [
    "import re\n",
    "# filter some noises caused by speech recognition\n",
    "def clean_data(text):\n",
    "    text = text.replace('{vocalsound} ', '')\n",
    "    text = text.replace('{disfmarker} ', '')\n",
    "    text = text.replace('a_m_i_', 'ami')\n",
    "    text = text.replace('l_c_d_', 'lcd')\n",
    "    text = text.replace('p_m_s', 'pms')\n",
    "    text = text.replace('t_v_', 'tv')\n",
    "    text = text.replace('{pause} ', '')\n",
    "    text = text.replace('{nonvocalsound} ', '')\n",
    "    text = text.replace('{gap} ', '')\n",
    "    return text"
   ]
  },
  {
   "cell_type": "code",
   "execution_count": 68,
   "metadata": {},
   "outputs": [],
   "source": [
    "import pandas as pd\n",
    "import nltk\n",
    "\n",
    "# Create a dictionary to store the data for train dataframe\n",
    "train_data = {'meeting_id': [], 'caption': [], 'speaker': [], 'caption_group_id': []}\n",
    "\n",
    "# Create a dictionary to store the data for test dataframe\n",
    "test_data = {'meeting_id': [], 'st': [], 'en': [], 'topic': []}\n",
    "meeting_id = 0\n",
    "\n",
    "for data in docs:\n",
    "    # Loop through each meeting transcript\n",
    "    caption_id = 0\n",
    "    for i, transcript in enumerate(data['meeting_transcripts']):\n",
    "        speaker = transcript['speaker']\n",
    "        caption = transcript['content']\n",
    "        caption_id += 1\n",
    "        sentences = nltk.sent_tokenize(caption)\n",
    "        for s in sentences:\n",
    "            train_data['meeting_id'].append(meeting_id)\n",
    "            train_data['caption'].append(s)\n",
    "            train_data['speaker'].append(speaker)\n",
    "            train_data['caption_group_id'].append(caption_id)\n",
    "\n",
    "    # Loop through each topic and its relevant text spans\n",
    "    for j, topic in enumerate(data['topic_list']):\n",
    "        for span in topic['relevant_text_span']:\n",
    "            st, en = map(int, span)\n",
    "            test_data['meeting_id'].append(meeting_id)\n",
    "            test_data['topic'].append(topic['topic'])\n",
    "            test_data['st'].append(st)\n",
    "            test_data['en'].append(en)\n",
    "    meeting_id = meeting_id + 1  # Meeting id starts from 1\n",
    "\n",
    "\n",
    "\n",
    "# Create train and test dataframes\n",
    "train_df = pd.DataFrame(train_data)\n",
    "test_df = pd.DataFrame(test_data).sort_values(by=['meeting_id', 'st'])"
   ]
  },
  {
   "cell_type": "code",
   "execution_count": 69,
   "outputs": [
    {
     "data": {
      "text/plain": "   meeting_id                     caption          speaker  caption_group_id\n0           0                Here we go .  Project Manager                 1\n1           0         Welcome everybody .  Project Manager                 1\n2           0  Um , I'm Abigail Claflin .  Project Manager                 1\n3           0     You can call me Abbie .  Project Manager                 1\n4           0                    'S see .  Project Manager                 1",
      "text/html": "<div>\n<style scoped>\n    .dataframe tbody tr th:only-of-type {\n        vertical-align: middle;\n    }\n\n    .dataframe tbody tr th {\n        vertical-align: top;\n    }\n\n    .dataframe thead th {\n        text-align: right;\n    }\n</style>\n<table border=\"1\" class=\"dataframe\">\n  <thead>\n    <tr style=\"text-align: right;\">\n      <th></th>\n      <th>meeting_id</th>\n      <th>caption</th>\n      <th>speaker</th>\n      <th>caption_group_id</th>\n    </tr>\n  </thead>\n  <tbody>\n    <tr>\n      <th>0</th>\n      <td>0</td>\n      <td>Here we go .</td>\n      <td>Project Manager</td>\n      <td>1</td>\n    </tr>\n    <tr>\n      <th>1</th>\n      <td>0</td>\n      <td>Welcome everybody .</td>\n      <td>Project Manager</td>\n      <td>1</td>\n    </tr>\n    <tr>\n      <th>2</th>\n      <td>0</td>\n      <td>Um , I'm Abigail Claflin .</td>\n      <td>Project Manager</td>\n      <td>1</td>\n    </tr>\n    <tr>\n      <th>3</th>\n      <td>0</td>\n      <td>You can call me Abbie .</td>\n      <td>Project Manager</td>\n      <td>1</td>\n    </tr>\n    <tr>\n      <th>4</th>\n      <td>0</td>\n      <td>'S see .</td>\n      <td>Project Manager</td>\n      <td>1</td>\n    </tr>\n  </tbody>\n</table>\n</div>"
     },
     "execution_count": 69,
     "metadata": {},
     "output_type": "execute_result"
    }
   ],
   "source": [
    "train_df.head()"
   ],
   "metadata": {
    "collapsed": false
   }
  },
  {
   "cell_type": "code",
   "execution_count": 70,
   "outputs": [
    {
     "data": {
      "text/plain": "   meeting_id  st   en                                              topic\n0           0  10   97  Tool training on the conceptual design of remo...\n1           0  84  215                    Project plan and target revenue\n2           0  97  236  Brainstorming functional design on technical f...\n3           1   0   47                        Introduction of a prototype\n4           1  48   76              Evaluation criteria of remote control",
      "text/html": "<div>\n<style scoped>\n    .dataframe tbody tr th:only-of-type {\n        vertical-align: middle;\n    }\n\n    .dataframe tbody tr th {\n        vertical-align: top;\n    }\n\n    .dataframe thead th {\n        text-align: right;\n    }\n</style>\n<table border=\"1\" class=\"dataframe\">\n  <thead>\n    <tr style=\"text-align: right;\">\n      <th></th>\n      <th>meeting_id</th>\n      <th>st</th>\n      <th>en</th>\n      <th>topic</th>\n    </tr>\n  </thead>\n  <tbody>\n    <tr>\n      <th>0</th>\n      <td>0</td>\n      <td>10</td>\n      <td>97</td>\n      <td>Tool training on the conceptual design of remo...</td>\n    </tr>\n    <tr>\n      <th>1</th>\n      <td>0</td>\n      <td>84</td>\n      <td>215</td>\n      <td>Project plan and target revenue</td>\n    </tr>\n    <tr>\n      <th>2</th>\n      <td>0</td>\n      <td>97</td>\n      <td>236</td>\n      <td>Brainstorming functional design on technical f...</td>\n    </tr>\n    <tr>\n      <th>3</th>\n      <td>1</td>\n      <td>0</td>\n      <td>47</td>\n      <td>Introduction of a prototype</td>\n    </tr>\n    <tr>\n      <th>4</th>\n      <td>1</td>\n      <td>48</td>\n      <td>76</td>\n      <td>Evaluation criteria of remote control</td>\n    </tr>\n  </tbody>\n</table>\n</div>"
     },
     "execution_count": 70,
     "metadata": {},
     "output_type": "execute_result"
    }
   ],
   "source": [
    "test_df.head()"
   ],
   "metadata": {
    "collapsed": false
   }
  },
  {
   "cell_type": "code",
   "execution_count": 71,
   "outputs": [],
   "source": [
    "train_df.to_csv('train.csv', index=False)\n",
    "test_df.to_csv('test.csv', index=False)"
   ],
   "metadata": {
    "collapsed": false
   }
  },
  {
   "cell_type": "code",
   "execution_count": 71,
   "outputs": [],
   "source": [],
   "metadata": {
    "collapsed": false
   }
  }
 ],
 "metadata": {
  "kernelspec": {
   "display_name": "Python 3",
   "language": "python",
   "name": "python3"
  },
  "language_info": {
   "codemirror_mode": {
    "name": "ipython",
    "version": 3
   },
   "file_extension": ".py",
   "mimetype": "text/x-python",
   "name": "python",
   "nbconvert_exporter": "python",
   "pygments_lexer": "ipython3",
   "version": "3.8.5"
  }
 },
 "nbformat": 4,
 "nbformat_minor": 4
}
