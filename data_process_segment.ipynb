{
 "cells": [
  {
   "cell_type": "code",
   "execution_count": 9,
   "metadata": {},
   "outputs": [
    {
     "name": "stdout",
     "output_type": "stream",
     "text": [
      "Total 20 meetings in the test set.\n"
     ]
    }
   ],
   "source": [
    "import json\n",
    "\n",
    "# read the dataset\n",
    "# please enter the path of your data\n",
    "split = 'all'\n",
    "data_path = './data/Product/all/' + split + '.jsonl'\n",
    "docs = []\n",
    "with open(data_path) as f:\n",
    "    for line in f:\n",
    "        docs.append(json.loads(line))\n",
    "n_meetings = len(docs)\n",
    "print('Total {} meetings in the {} set.'.format(n_meetings, split))"
   ]
  },
  {
   "cell_type": "code",
   "execution_count": 10,
   "metadata": {},
   "outputs": [],
   "source": [
    "import re\n",
    "# filter some noises caused by speech recognition\n",
    "def clean_data(text):\n",
    "    text = text.replace('{vocalsound} ', '')\n",
    "    text = text.replace('{disfmarker} ', '')\n",
    "    text = text.replace('a_m_i_', 'ami')\n",
    "    text = text.replace('l_c_d_', 'lcd')\n",
    "    text = text.replace('p_m_s', 'pms')\n",
    "    text = text.replace('t_v_', 'tv')\n",
    "    text = text.replace('{pause} ', '')\n",
    "    text = text.replace('{nonvocalsound} ', '')\n",
    "    text = text.replace('{gap} ', '')\n",
    "    return text"
   ]
  },
  {
   "cell_type": "code",
   "execution_count": 11,
   "metadata": {},
   "outputs": [],
   "source": [
    "import pandas as pd\n",
    "import nltk\n",
    "\n",
    "# Create a dictionary to store the data for train dataframe\n",
    "train_data = {'meeting_id': [], 'caption': [], 'speaker': [], 'st': [], 'en': []}\n",
    "\n",
    "# Create a dictionary to store the data for test dataframe\n",
    "test_data = {'meeting_id': [], 'st': [], 'en': [], 'topic': []}\n",
    "meeting_id = 0\n",
    "\n",
    "for data in docs:\n",
    "    # Loop through each meeting transcript\n",
    "    # we can assume that approximately 1,000 characters are spoken in one minute of an audio file.\n",
    "    # so we get 60 millisecond for 1 character\n",
    "    millis_per_character = 60\n",
    "    millis_per_switch = 1000\n",
    "    fake_times = {}\n",
    "    time_millis = 0\n",
    "    for i, transcript in enumerate(data['meeting_transcripts']):\n",
    "        speaker = transcript['speaker']\n",
    "        caption = transcript['content']\n",
    "        fake_times[i] = time_millis\n",
    "        # for s in sentences:\n",
    "        train_data['meeting_id'].append(meeting_id)\n",
    "        train_data['caption'].append(caption)\n",
    "        train_data['speaker'].append(speaker)\n",
    "\n",
    "        train_data['st'].append(time_millis)\n",
    "        time_millis += len(caption) * millis_per_character\n",
    "        train_data['en'].append(time_millis)\n",
    "\n",
    "\n",
    "# Loop through each topic and its relevant text spans\n",
    "    for j, topic in enumerate(data['topic_list']):\n",
    "        for span in topic['relevant_text_span']:\n",
    "            st, en = map(int, span)\n",
    "            test_data['meeting_id'].append(meeting_id)\n",
    "            test_data['topic'].append(topic['topic'])\n",
    "            test_data['st'].append(fake_times[st])\n",
    "            test_data['en'].append(fake_times[en])\n",
    "    meeting_id = meeting_id + 1  # Meeting id starts from 1\n",
    "\n",
    "\n",
    "\n",
    "# Create train and test dataframes\n",
    "train_df = pd.DataFrame(train_data)\n",
    "test_df = pd.DataFrame(test_data).sort_values(by=['meeting_id', 'st'])"
   ]
  },
  {
   "cell_type": "code",
   "execution_count": 12,
   "outputs": [
    {
     "data": {
      "text/plain": "   meeting_id                                            caption  \\\n0           0  Here we go . Welcome everybody . Um , I'm Abig...   \n1           0  Hi I'm Chiara , I'm the um Marketing Expert . ...   \n2           0  I think we'll get around to that , yeah . So t...   \n3           0  We'll get round to that later . My name is Chi...   \n4           0  Okay . I forgot to s say I'm the Project Manag...   \n\n           speaker     st     en  \n0  Project Manager      0  17700  \n1        Marketing  17700  29160  \n2  Project Manager  29160  33840  \n3        Marketing  33840  38640  \n4  Project Manager  38640  44040  ",
      "text/html": "<div>\n<style scoped>\n    .dataframe tbody tr th:only-of-type {\n        vertical-align: middle;\n    }\n\n    .dataframe tbody tr th {\n        vertical-align: top;\n    }\n\n    .dataframe thead th {\n        text-align: right;\n    }\n</style>\n<table border=\"1\" class=\"dataframe\">\n  <thead>\n    <tr style=\"text-align: right;\">\n      <th></th>\n      <th>meeting_id</th>\n      <th>caption</th>\n      <th>speaker</th>\n      <th>st</th>\n      <th>en</th>\n    </tr>\n  </thead>\n  <tbody>\n    <tr>\n      <th>0</th>\n      <td>0</td>\n      <td>Here we go . Welcome everybody . Um , I'm Abig...</td>\n      <td>Project Manager</td>\n      <td>0</td>\n      <td>17700</td>\n    </tr>\n    <tr>\n      <th>1</th>\n      <td>0</td>\n      <td>Hi I'm Chiara , I'm the um Marketing Expert . ...</td>\n      <td>Marketing</td>\n      <td>17700</td>\n      <td>29160</td>\n    </tr>\n    <tr>\n      <th>2</th>\n      <td>0</td>\n      <td>I think we'll get around to that , yeah . So t...</td>\n      <td>Project Manager</td>\n      <td>29160</td>\n      <td>33840</td>\n    </tr>\n    <tr>\n      <th>3</th>\n      <td>0</td>\n      <td>We'll get round to that later . My name is Chi...</td>\n      <td>Marketing</td>\n      <td>33840</td>\n      <td>38640</td>\n    </tr>\n    <tr>\n      <th>4</th>\n      <td>0</td>\n      <td>Okay . I forgot to s say I'm the Project Manag...</td>\n      <td>Project Manager</td>\n      <td>38640</td>\n      <td>44040</td>\n    </tr>\n  </tbody>\n</table>\n</div>"
     },
     "execution_count": 12,
     "metadata": {},
     "output_type": "execute_result"
    }
   ],
   "source": [
    "train_df.head()"
   ],
   "metadata": {
    "collapsed": false
   }
  },
  {
   "cell_type": "code",
   "execution_count": 13,
   "outputs": [
    {
     "data": {
      "text/plain": "speaker            \nProject Manager        3345\nIndustrial Designer    2900\nUser Interface         2769\nMarketing              2372\ndtype: int64"
     },
     "execution_count": 13,
     "metadata": {},
     "output_type": "execute_result"
    }
   ],
   "source": [
    "train_df.value_counts(['speaker'])"
   ],
   "metadata": {
    "collapsed": false
   }
  },
  {
   "cell_type": "code",
   "execution_count": 14,
   "outputs": [
    {
     "data": {
      "text/plain": "   meeting_id      st      en  \\\n0           0   53220  373560   \n1           0  322140  780000   \n2           0  373560  823080   \n3           1       0  152700   \n4           1  153420  212100   \n\n                                               topic  \n0  Tool training on the conceptual design of remo...  \n1                    Project plan and target revenue  \n2  Brainstorming functional design on technical f...  \n3                        Introduction of a prototype  \n4              Evaluation criteria of remote control  ",
      "text/html": "<div>\n<style scoped>\n    .dataframe tbody tr th:only-of-type {\n        vertical-align: middle;\n    }\n\n    .dataframe tbody tr th {\n        vertical-align: top;\n    }\n\n    .dataframe thead th {\n        text-align: right;\n    }\n</style>\n<table border=\"1\" class=\"dataframe\">\n  <thead>\n    <tr style=\"text-align: right;\">\n      <th></th>\n      <th>meeting_id</th>\n      <th>st</th>\n      <th>en</th>\n      <th>topic</th>\n    </tr>\n  </thead>\n  <tbody>\n    <tr>\n      <th>0</th>\n      <td>0</td>\n      <td>53220</td>\n      <td>373560</td>\n      <td>Tool training on the conceptual design of remo...</td>\n    </tr>\n    <tr>\n      <th>1</th>\n      <td>0</td>\n      <td>322140</td>\n      <td>780000</td>\n      <td>Project plan and target revenue</td>\n    </tr>\n    <tr>\n      <th>2</th>\n      <td>0</td>\n      <td>373560</td>\n      <td>823080</td>\n      <td>Brainstorming functional design on technical f...</td>\n    </tr>\n    <tr>\n      <th>3</th>\n      <td>1</td>\n      <td>0</td>\n      <td>152700</td>\n      <td>Introduction of a prototype</td>\n    </tr>\n    <tr>\n      <th>4</th>\n      <td>1</td>\n      <td>153420</td>\n      <td>212100</td>\n      <td>Evaluation criteria of remote control</td>\n    </tr>\n  </tbody>\n</table>\n</div>"
     },
     "execution_count": 14,
     "metadata": {},
     "output_type": "execute_result"
    }
   ],
   "source": [
    "test_df.head()"
   ],
   "metadata": {
    "collapsed": false
   }
  },
  {
   "cell_type": "code",
   "execution_count": 15,
   "outputs": [],
   "source": [
    "train_df.to_csv('train_ami.csv', index=False)\n",
    "test_df.to_csv('test_ami.csv', index=False)"
   ],
   "metadata": {
    "collapsed": false
   }
  },
  {
   "cell_type": "code",
   "execution_count": 15,
   "outputs": [],
   "source": [],
   "metadata": {
    "collapsed": false
   }
  }
 ],
 "metadata": {
  "kernelspec": {
   "display_name": "Python 3",
   "language": "python",
   "name": "python3"
  },
  "language_info": {
   "codemirror_mode": {
    "name": "ipython",
    "version": 3
   },
   "file_extension": ".py",
   "mimetype": "text/x-python",
   "name": "python",
   "nbconvert_exporter": "python",
   "pygments_lexer": "ipython3",
   "version": "3.8.5"
  }
 },
 "nbformat": 4,
 "nbformat_minor": 4
}
